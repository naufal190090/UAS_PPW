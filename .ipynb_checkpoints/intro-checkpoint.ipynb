{
 "cells": [
  {
   "cell_type": "markdown",
   "metadata": {},
   "source": [
    "# Crawling Web"
   ]
  },
  {
   "cell_type": "raw",
   "metadata": {},
   "source": [
    "Crawling Web adalah"
   ]
  },
  {
   "cell_type": "markdown",
   "metadata": {},
   "source": [
    "untuk crawling web saya menggunakan file python biasa yang harus dijalankan menggunakan visual studio code\n",
    "berikut dibawah ini adalah kodenya"
   ]
  },
  {
   "cell_type": "code",
   "execution_count": 57,
   "metadata": {},
   "outputs": [],
   "source": [
    "import scrapy\n",
    "\n",
    "\n",
    "class QuotesSpider(scrapy.Spider):\n",
    "    name = \"quotes\"\n",
    "\n",
    "    def start_requests(self):\n",
    "        x = 100000\n",
    "        for i in range (1,500):\n",
    "            x +=1\n",
    "            urls = [\n",
    "                'https://pta.trunojoyo.ac.id/welcome/detail/070411'+str(x),\n",
    "                'https://pta.trunojoyo.ac.id/welcome/detail/040411'+str(x),\n",
    "            ]\n",
    "            for url in urls:\n",
    "                yield scrapy.Request(url=url, callback=self.parse)\n",
    "\n",
    "    def parse(self, response):\n",
    "        yield{\n",
    "            'judul':response.css('#content_journal > ul > li > div:nth-child(2) > a::text').extract(),\n",
    "            'Penulis':response.css('#content_journal > ul > li > div:nth-child(2) > div:nth-child(2) > span::text').extract(),\n",
    "            'Pembimbing 1':response.css('#content_journal > ul > li > div:nth-child(2) > div:nth-child(3) > span::text').extract(),\n",
    "            'Pembimbing 2':response.css('#content_journal > ul > li > div:nth-child(2) > div:nth-child(4) > span::text').extract(),\n",
    "            'Abstrak':response.css('#content_journal > ul > li > div:nth-child(4) > div:nth-child(2) > p::text').extract(),\n",
    "            'Abstract':response.css('#content_journal > ul > li > div:nth-child(4) > div:nth-child(4) > p::text').extract()\n",
    "        }\n",
    "        "
   ]
  },
  {
   "cell_type": "markdown",
   "metadata": {},
   "source": [
    "sebelum menjalankan code diatas harus menginstal terlebih dahulu framework scrapy dengan cara\n",
    "buka cmd menggunakan run as administrator\n",
    "setelah itu ketikkan"
   ]
  },
  {
   "cell_type": "markdown",
   "metadata": {},
   "source": [
    "pip install scrapy"
   ]
  },
  {
   "cell_type": "markdown",
   "metadata": {},
   "source": [
    "untuk menjalankannya pertama harus di save terlebih dahulu code diatas didalam file berformat py. setelah itu buka menggunakan visual studio code dengan cara open folder dimana file tersebut disimpan bukan open file tersebut. setelah folder tempat file crawling itu dibuka tinggal buka file nya setelah itu buka terminal dan ketikkan"
   ]
  },
  {
   "cell_type": "markdown",
   "metadata": {},
   "source": [
    "scrapy runspider nama_file.py -o data_awal_crawling.csv"
   ]
  },
  {
   "cell_type": "markdown",
   "metadata": {},
   "source": [
    "hasil dari save code diatas akan menghasilkan file berformat csv dimana akan ada banyak kolom kosong yang ada\n",
    "oleh karena itu maka diperlukan sedikit modifikasi untuk menghapus kolom yang kosong dan sekaligus mengubah file dari csv ke xlsx\n",
    "berikut ini kodenya"
   ]
  },
  {
   "cell_type": "markdown",
   "metadata": {},
   "source": [
    "## Menghilangkan Kolom Kosong"
   ]
  },
  {
   "cell_type": "code",
   "execution_count": null,
   "metadata": {},
   "outputs": [],
   "source": [
    "import pandas as pd\n",
    "data = pd.read_csv('data_awal_crawling.csv')"
   ]
  },
  {
   "cell_type": "code",
   "execution_count": null,
   "metadata": {},
   "outputs": [],
   "source": [
    "data.dropna(inplace=True)\n",
    "data.isnull().sum()"
   ]
  },
  {
   "cell_type": "code",
   "execution_count": null,
   "metadata": {},
   "outputs": [],
   "source": [
    "data.to_excel(\"hasil_crawling.xlsx\")"
   ]
  },
  {
   "cell_type": "markdown",
   "metadata": {
    "_uuid": "9341bf79ac503efb2b0c19cae84b17b48c30e211"
   },
   "source": [
    "## Topic Modelling Menggunakan Latent Semantic Analysis (LSA)"
   ]
  },
  {
   "cell_type": "code",
   "execution_count": 1,
   "metadata": {
    "_uuid": "e5d7c8f848246a160104b0002220baf4c95e9eb2"
   },
   "outputs": [],
   "source": []
  },
  {
   "cell_type": "markdown",
   "metadata": {
    "_uuid": "3f9de996a68ce9d21cb302f795a0c8f667784879",
    "tags": []
   },
   "source": [
    "### **There also exists implementation using the Gensim library. Checkout the same [here](https://www.analyticsvidhya.com/blog/2016/08/beginners-guide-to-topic-modeling-in-python/)  ,   [here](https://nlpforhackers.io/topic-modeling/) and [here](https://www.machinelearningplus.com/nlp/topic-modeling-gensim-python/) and also in [this](https://github.com/susanli2016/NLP-with-Python/blob/master/LDA_news_headlines.ipynb) notebook.**"
   ]
  },
  {
   "cell_type": "code",
   "execution_count": 1,
   "metadata": {
    "_uuid": "290af1f20803420483653e4e447732f4658900ec"
   },
   "outputs": [],
   "source": []
  },
  {
   "cell_type": "markdown",
   "metadata": {
    "_uuid": "827e42f1d6fbd87d0858fd90555a280782a2ed73"
   },
   "source": [
    "## [Please star/upvote in case u like it. ]"
   ]
  },
  {
   "cell_type": "code",
   "execution_count": 1,
   "metadata": {
    "_uuid": "87d8d19cf6c49e0af3e33f6ccd77bad5ec5f46a6"
   },
   "outputs": [],
   "source": []
  },
  {
   "cell_type": "markdown",
   "metadata": {
    "_uuid": "6a503c2851673a3d3ec1eb2c3d6c6e5566292af1"
   },
   "source": [
    "#### IMPORTING MODULES"
   ]
  },
  {
   "cell_type": "code",
   "execution_count": 6,
   "metadata": {
    "_uuid": "39f140e85d319161012fb67f258dd6b339545b0a",
    "id": "5O5_-2kTGD6V"
   },
   "outputs": [],
   "source": [
    "# data visualisation and manipulation\n",
    "import numpy as np\n",
    "import pandas as pd\n",
    "import matplotlib.pyplot as plt\n",
    "from matplotlib import style\n",
    "import seaborn as sns\n",
    "from openpyxl import load_workbook #library untuk menampilkan dokumen\n",
    "#configure\n",
    "# sets matplotlib to inline and displays graphs below the corressponding cell.\n",
    "%matplotlib inline  \n",
    "style.use('fivethirtyeight')\n",
    "sns.set(style='whitegrid',color_codes=True)\n",
    "\n",
    "#import nltk\n",
    "import nltk\n",
    "from nltk.corpus import stopwords\n",
    "from nltk.tokenize import word_tokenize,sent_tokenize\n",
    "\n",
    "#preprocessing\n",
    "from nltk.corpus import stopwords  #stopwords\n",
    "from nltk import word_tokenize,sent_tokenize # tokenizing\n",
    "from nltk.stem import PorterStemmer,LancasterStemmer  # using the Porter Stemmer and Lancaster Stemmer and others\n",
    "from nltk.stem.snowball import SnowballStemmer\n",
    "from nltk.stem import WordNetLemmatizer  # lammatizer from WordNet\n",
    "\n",
    "# for named entity recognition (NER)\n",
    "from nltk import ne_chunk\n",
    "\n",
    "# vectorizers for creating the document-term-matrix (DTM)\n",
    "from sklearn.feature_extraction.text import TfidfVectorizer,CountVectorizer\n",
    "\n",
    "#stop-words\n",
    "stop_words=set(nltk.corpus.stopwords.words('english'))"
   ]
  },
  {
   "cell_type": "code",
   "execution_count": null,
   "metadata": {
    "_uuid": "fd492c7bc386ce83719ea3172baf526b9acaaecb"
   },
   "outputs": [],
   "source": []
  },
  {
   "cell_type": "markdown",
   "metadata": {
    "_uuid": "a2b520342f1761de78285e76aa6327d9d37b1f4e"
   },
   "source": [
    "#### LOADING THE DATASET"
   ]
  },
  {
   "cell_type": "code",
   "execution_count": 11,
   "metadata": {
    "_uuid": "aad495ed355e99947bc3b9816cfad0ff430c17e5",
    "id": "xaPWCpthHVIS"
   },
   "outputs": [],
   "source": [
    "wr = load_workbook(filename = 'hasil_crawling.xlsx')\n",
    "sheet_range = wr['Sheet1']\n",
    "\n",
    "data = pd.DataFrame(sheet_range.values)\n",
    "data.columns = ['','judul','Penulis', 'Pembimbing 1','Pembimbing 2', 'Abstrak', 'Abstract']\n"
   ]
  },
  {
   "cell_type": "code",
   "execution_count": 12,
   "metadata": {
    "_uuid": "e09dd69ffa2bae1920f3e10b1af0a8ce0f8ae16d",
    "id": "Wwf4uKjTIYm2",
    "outputId": "9fac48b8-49af-44ff-f06b-d4b7440110b7"
   },
   "outputs": [
    {
     "data": {
      "text/html": [
       "<div>\n",
       "<style scoped>\n",
       "    .dataframe tbody tr th:only-of-type {\n",
       "        vertical-align: middle;\n",
       "    }\n",
       "\n",
       "    .dataframe tbody tr th {\n",
       "        vertical-align: top;\n",
       "    }\n",
       "\n",
       "    .dataframe thead th {\n",
       "        text-align: right;\n",
       "    }\n",
       "</style>\n",
       "<table border=\"1\" class=\"dataframe\">\n",
       "  <thead>\n",
       "    <tr style=\"text-align: right;\">\n",
       "      <th></th>\n",
       "      <th></th>\n",
       "      <th>judul</th>\n",
       "      <th>Penulis</th>\n",
       "      <th>Pembimbing 1</th>\n",
       "      <th>Pembimbing 2</th>\n",
       "      <th>Abstrak</th>\n",
       "      <th>Abstract</th>\n",
       "    </tr>\n",
       "  </thead>\n",
       "  <tbody>\n",
       "    <tr>\n",
       "      <th>0</th>\n",
       "      <td>NaN</td>\n",
       "      <td>judul</td>\n",
       "      <td>Penulis</td>\n",
       "      <td>Pembimbing 1</td>\n",
       "      <td>Pembimbing 2</td>\n",
       "      <td>Abstrak</td>\n",
       "      <td>Abstract</td>\n",
       "    </tr>\n",
       "    <tr>\n",
       "      <th>1</th>\n",
       "      <td>12.0</td>\n",
       "      <td>Gerak Pekerja Pada Game Real Time Strategy Men...</td>\n",
       "      <td>Penulis : Adi Chandra Laksono</td>\n",
       "      <td>Dosen Pembimbing I : Kurniawan Eka P, S.Kom., Msc</td>\n",
       "      <td>Dosen Pembimbing II :Arik Kurniawati, S.Kom., ...</td>\n",
       "      <td>Gerak pekerja ada pada game yang memiliki genr...</td>\n",
       "      <td>Workers' movements in the game that has no gen...</td>\n",
       "    </tr>\n",
       "    <tr>\n",
       "      <th>2</th>\n",
       "      <td>16.0</td>\n",
       "      <td>PERBANDINGAN PENGGUNAAN GRAY LEVEL CO-OCURRENC...</td>\n",
       "      <td>Penulis : ADIK PRAS</td>\n",
       "      <td>Dosen Pembimbing I : Cucun Very Angkoso S.T., ...</td>\n",
       "      <td>Dosen Pembimbing II :Rima Tri Wahyuningrum S.T...</td>\n",
       "      <td>Senyum merupakan salah satu fitur biometrik ya...</td>\n",
       "      <td>A smile is one of the biometric features which...</td>\n",
       "    </tr>\n",
       "    <tr>\n",
       "      <th>3</th>\n",
       "      <td>32.0</td>\n",
       "      <td>SEGMENTASI PEMBULUH DARAH RETINA PADA CITRA FU...</td>\n",
       "      <td>Penulis : AKHMAD NUVAIL</td>\n",
       "      <td>Dosen Pembimbing I : Dr. Arif Muntasa S.Si., M.T.</td>\n",
       "      <td>Dosen Pembimbing II :Dr. Indah Agustien S.Kom....</td>\n",
       "      <td>Segmentasi adalah suatu proses untuk mengekstr...</td>\n",
       "      <td>Segmentation is a process to extract or displa...</td>\n",
       "    </tr>\n",
       "    <tr>\n",
       "      <th>4</th>\n",
       "      <td>36.0</td>\n",
       "      <td>SISTEM PERAMALAN TINGKAT PENGANGGURAN WILAYAH ...</td>\n",
       "      <td>Penulis : ALI IMRON ZAMZAMI</td>\n",
       "      <td>Dosen Pembimbing I : Ba'in Khusnul Khotimah, S...</td>\n",
       "      <td>Dosen Pembimbing II :Firli Irhamni, S.T., M.Kom.</td>\n",
       "      <td>Kabupaten Bangkalan Mempunyai jumlah penduduk ...</td>\n",
       "      <td>Bangkalan district Having a population of 906,...</td>\n",
       "    </tr>\n",
       "  </tbody>\n",
       "</table>\n",
       "</div>"
      ],
      "text/plain": [
       "                                                     judul  \\\n",
       "0   NaN                                              judul   \n",
       "1  12.0  Gerak Pekerja Pada Game Real Time Strategy Men...   \n",
       "2  16.0  PERBANDINGAN PENGGUNAAN GRAY LEVEL CO-OCURRENC...   \n",
       "3  32.0  SEGMENTASI PEMBULUH DARAH RETINA PADA CITRA FU...   \n",
       "4  36.0  SISTEM PERAMALAN TINGKAT PENGANGGURAN WILAYAH ...   \n",
       "\n",
       "                         Penulis  \\\n",
       "0                        Penulis   \n",
       "1  Penulis : Adi Chandra Laksono   \n",
       "2            Penulis : ADIK PRAS   \n",
       "3        Penulis : AKHMAD NUVAIL   \n",
       "4    Penulis : ALI IMRON ZAMZAMI   \n",
       "\n",
       "                                        Pembimbing 1  \\\n",
       "0                                       Pembimbing 1   \n",
       "1  Dosen Pembimbing I : Kurniawan Eka P, S.Kom., Msc   \n",
       "2  Dosen Pembimbing I : Cucun Very Angkoso S.T., ...   \n",
       "3  Dosen Pembimbing I : Dr. Arif Muntasa S.Si., M.T.   \n",
       "4  Dosen Pembimbing I : Ba'in Khusnul Khotimah, S...   \n",
       "\n",
       "                                        Pembimbing 2  \\\n",
       "0                                       Pembimbing 2   \n",
       "1  Dosen Pembimbing II :Arik Kurniawati, S.Kom., ...   \n",
       "2  Dosen Pembimbing II :Rima Tri Wahyuningrum S.T...   \n",
       "3  Dosen Pembimbing II :Dr. Indah Agustien S.Kom....   \n",
       "4   Dosen Pembimbing II :Firli Irhamni, S.T., M.Kom.   \n",
       "\n",
       "                                             Abstrak  \\\n",
       "0                                            Abstrak   \n",
       "1  Gerak pekerja ada pada game yang memiliki genr...   \n",
       "2  Senyum merupakan salah satu fitur biometrik ya...   \n",
       "3  Segmentasi adalah suatu proses untuk mengekstr...   \n",
       "4  Kabupaten Bangkalan Mempunyai jumlah penduduk ...   \n",
       "\n",
       "                                            Abstract  \n",
       "0                                           Abstract  \n",
       "1  Workers' movements in the game that has no gen...  \n",
       "2  A smile is one of the biometric features which...  \n",
       "3  Segmentation is a process to extract or displa...  \n",
       "4  Bangkalan district Having a population of 906,...  "
      ]
     },
     "execution_count": 12,
     "metadata": {},
     "output_type": "execute_result"
    }
   ],
   "source": [
    "data.head()"
   ]
  },
  {
   "cell_type": "code",
   "execution_count": null,
   "metadata": {
    "_uuid": "dcaba93fba40631607159165262af6cb846fa501"
   },
   "outputs": [],
   "source": []
  },
  {
   "cell_type": "markdown",
   "metadata": {
    "_uuid": "ece312ea148c498c5584e83f6a36fce2dc236198"
   },
   "source": [
    "We will drop the **'publish_date'** column as it is useless for our discussion."
   ]
  },
  {
   "cell_type": "code",
   "execution_count": 15,
   "metadata": {
    "_uuid": "2a6df530624e3b9c3cfb43659ba9c0f67e2aa1d4",
    "id": "wiuusKeEIr_o"
   },
   "outputs": [
    {
     "data": {
      "text/html": [
       "<div>\n",
       "<style scoped>\n",
       "    .dataframe tbody tr th:only-of-type {\n",
       "        vertical-align: middle;\n",
       "    }\n",
       "\n",
       "    .dataframe tbody tr th {\n",
       "        vertical-align: top;\n",
       "    }\n",
       "\n",
       "    .dataframe thead th {\n",
       "        text-align: right;\n",
       "    }\n",
       "</style>\n",
       "<table border=\"1\" class=\"dataframe\">\n",
       "  <thead>\n",
       "    <tr style=\"text-align: right;\">\n",
       "      <th></th>\n",
       "      <th>Abstrak</th>\n",
       "    </tr>\n",
       "  </thead>\n",
       "  <tbody>\n",
       "    <tr>\n",
       "      <th>0</th>\n",
       "      <td>Abstrak</td>\n",
       "    </tr>\n",
       "    <tr>\n",
       "      <th>1</th>\n",
       "      <td>Gerak pekerja ada pada game yang memiliki genr...</td>\n",
       "    </tr>\n",
       "    <tr>\n",
       "      <th>2</th>\n",
       "      <td>Senyum merupakan salah satu fitur biometrik ya...</td>\n",
       "    </tr>\n",
       "    <tr>\n",
       "      <th>3</th>\n",
       "      <td>Segmentasi adalah suatu proses untuk mengekstr...</td>\n",
       "    </tr>\n",
       "    <tr>\n",
       "      <th>4</th>\n",
       "      <td>Kabupaten Bangkalan Mempunyai jumlah penduduk ...</td>\n",
       "    </tr>\n",
       "    <tr>\n",
       "      <th>...</th>\n",
       "      <td>...</td>\n",
       "    </tr>\n",
       "    <tr>\n",
       "      <th>63</th>\n",
       "      <td>Pengiriman informasi melalui jaringan elektron...</td>\n",
       "    </tr>\n",
       "    <tr>\n",
       "      <th>64</th>\n",
       "      <td>Unsur estetika dalam berpakaian terkadang menj...</td>\n",
       "    </tr>\n",
       "    <tr>\n",
       "      <th>65</th>\n",
       "      <td>Sistem  informasi  akademik  (SIAKAD) merupaka...</td>\n",
       "    </tr>\n",
       "    <tr>\n",
       "      <th>66</th>\n",
       "      <td>Berjalannya koneksi jaringan komputer dengan l...</td>\n",
       "    </tr>\n",
       "    <tr>\n",
       "      <th>67</th>\n",
       "      <td>Web server adalah sebuah perangkat lunak serve...</td>\n",
       "    </tr>\n",
       "  </tbody>\n",
       "</table>\n",
       "<p>68 rows × 1 columns</p>\n",
       "</div>"
      ],
      "text/plain": [
       "                                              Abstrak\n",
       "0                                             Abstrak\n",
       "1   Gerak pekerja ada pada game yang memiliki genr...\n",
       "2   Senyum merupakan salah satu fitur biometrik ya...\n",
       "3   Segmentasi adalah suatu proses untuk mengekstr...\n",
       "4   Kabupaten Bangkalan Mempunyai jumlah penduduk ...\n",
       "..                                                ...\n",
       "63  Pengiriman informasi melalui jaringan elektron...\n",
       "64  Unsur estetika dalam berpakaian terkadang menj...\n",
       "65  Sistem  informasi  akademik  (SIAKAD) merupaka...\n",
       "66  Berjalannya koneksi jaringan komputer dengan l...\n",
       "67  Web server adalah sebuah perangkat lunak serve...\n",
       "\n",
       "[68 rows x 1 columns]"
      ]
     },
     "execution_count": 15,
     "metadata": {},
     "output_type": "execute_result"
    }
   ],
   "source": [
    "# drop the publish date.\n",
    "data[['Abstrak']]"
   ]
  },
  {
   "cell_type": "code",
   "execution_count": 16,
   "metadata": {
    "_uuid": "bd907b93c352fce35e8e6a886c01e9cf344ce455",
    "id": "FxegmHWtI3eJ",
    "outputId": "d0d3d76b-982e-422a-cdab-e05dfa72c536"
   },
   "outputs": [],
   "source": [
    "df = data[['Abstrak']]"
   ]
  },
  {
   "cell_type": "markdown",
   "metadata": {
    "_uuid": "2043c3fc7cb55f29282da53bf8ce8315aec19556"
   },
   "source": [
    "#### DATA CLEANING & PRE-PROCESSING"
   ]
  },
  {
   "cell_type": "markdown",
   "metadata": {
    "_uuid": "dbd9e74a45cef82d83251327066f919c2a7ee08b"
   },
   "source": [
    "Here I have done the data pre-processing. I have used the lemmatizer and can also use the stemmer. Also the stop words have been used along with the words wit lenght shorter than 3 characters to reduce some stray words."
   ]
  },
  {
   "cell_type": "code",
   "execution_count": 18,
   "metadata": {
    "_uuid": "c01abf16fc6c3b72873a40246d88f4f2d84af6a6",
    "id": "10MF-YmnI7vp"
   },
   "outputs": [],
   "source": [
    "def clean_text(headline):\n",
    "  le=WordNetLemmatizer()\n",
    "  word_tokens=word_tokenize(headline)\n",
    "  tokens=[le.lemmatize(w) for w in word_tokens if w not in stop_words and len(w)>3]\n",
    "  cleaned_text=\" \".join(tokens)\n",
    "  return cleaned_text\n",
    "  \n",
    "  "
   ]
  },
  {
   "cell_type": "code",
   "execution_count": 36,
   "metadata": {},
   "outputs": [
    {
     "data": {
      "text/html": [
       "<div>\n",
       "<style scoped>\n",
       "    .dataframe tbody tr th:only-of-type {\n",
       "        vertical-align: middle;\n",
       "    }\n",
       "\n",
       "    .dataframe tbody tr th {\n",
       "        vertical-align: top;\n",
       "    }\n",
       "\n",
       "    .dataframe thead th {\n",
       "        text-align: right;\n",
       "    }\n",
       "</style>\n",
       "<table border=\"1\" class=\"dataframe\">\n",
       "  <thead>\n",
       "    <tr style=\"text-align: right;\">\n",
       "      <th></th>\n",
       "      <th>Abstrak</th>\n",
       "      <th>Abstrak_bersih</th>\n",
       "    </tr>\n",
       "  </thead>\n",
       "  <tbody>\n",
       "    <tr>\n",
       "      <th>0</th>\n",
       "      <td>Abstrak</td>\n",
       "      <td>Abstrak</td>\n",
       "    </tr>\n",
       "    <tr>\n",
       "      <th>1</th>\n",
       "      <td>Gerak pekerja ada pada game yang memiliki genr...</td>\n",
       "      <td>Gerak pekerja pada game yang memiliki genre Re...</td>\n",
       "    </tr>\n",
       "    <tr>\n",
       "      <th>2</th>\n",
       "      <td>Senyum merupakan salah satu fitur biometrik ya...</td>\n",
       "      <td>Senyum merupakan salah satu fitur biometrik ya...</td>\n",
       "    </tr>\n",
       "    <tr>\n",
       "      <th>3</th>\n",
       "      <td>Segmentasi adalah suatu proses untuk mengekstr...</td>\n",
       "      <td>Segmentasi adalah suatu prose untuk mengekstra...</td>\n",
       "    </tr>\n",
       "    <tr>\n",
       "      <th>4</th>\n",
       "      <td>Kabupaten Bangkalan Mempunyai jumlah penduduk ...</td>\n",
       "      <td>Kabupaten Bangkalan Mempunyai jumlah penduduk ...</td>\n",
       "    </tr>\n",
       "  </tbody>\n",
       "</table>\n",
       "</div>"
      ],
      "text/plain": [
       "                                             Abstrak  \\\n",
       "0                                            Abstrak   \n",
       "1  Gerak pekerja ada pada game yang memiliki genr...   \n",
       "2  Senyum merupakan salah satu fitur biometrik ya...   \n",
       "3  Segmentasi adalah suatu proses untuk mengekstr...   \n",
       "4  Kabupaten Bangkalan Mempunyai jumlah penduduk ...   \n",
       "\n",
       "                                      Abstrak_bersih  \n",
       "0                                            Abstrak  \n",
       "1  Gerak pekerja pada game yang memiliki genre Re...  \n",
       "2  Senyum merupakan salah satu fitur biometrik ya...  \n",
       "3  Segmentasi adalah suatu prose untuk mengekstra...  \n",
       "4  Kabupaten Bangkalan Mempunyai jumlah penduduk ...  "
      ]
     },
     "execution_count": 36,
     "metadata": {},
     "output_type": "execute_result"
    }
   ],
   "source": [
    "df_bersih = df['Abstrak'].apply(clean_text)\n",
    "df_bersih.head()\n",
    "df.head()"
   ]
  },
  {
   "cell_type": "markdown",
   "metadata": {
    "_uuid": "79d7fa2c195ec7a4b5410885cea4dbc7e58db316",
    "id": "Wuos0NVsVJFg"
   },
   "source": [
    "Can see the difference after removal of stopwords and some shorter words. aslo the words have been lemmatized as in **'calls'--->'call'.**"
   ]
  },
  {
   "cell_type": "code",
   "execution_count": 9,
   "metadata": {
    "_uuid": "40712caac928c4a299e7fce7d759f3e9e5555c61"
   },
   "outputs": [],
   "source": []
  },
  {
   "cell_type": "markdown",
   "metadata": {},
   "source": [
    "sekarang jadikan df_bersih sebagai df"
   ]
  },
  {
   "cell_type": "code",
   "execution_count": 37,
   "metadata": {},
   "outputs": [],
   "source": [
    "df = df_bersih"
   ]
  },
  {
   "cell_type": "code",
   "execution_count": 38,
   "metadata": {
    "_uuid": "dc01093ea4f6bd35e492e5136bec2ef90f8a1bf5",
    "id": "PHPX62iRV_ux",
    "outputId": "729f2f07-09c5-477b-fcfd-72a166982d35"
   },
   "outputs": [
    {
     "data": {
      "text/plain": [
       "0                                              Abstrak\n",
       "1    Gerak pekerja pada game yang memiliki genre Re...\n",
       "2    Senyum merupakan salah satu fitur biometrik ya...\n",
       "3    Segmentasi adalah suatu prose untuk mengekstra...\n",
       "4    Kabupaten Bangkalan Mempunyai jumlah penduduk ...\n",
       "Name: Abstrak, dtype: object"
      ]
     },
     "execution_count": 38,
     "metadata": {},
     "output_type": "execute_result"
    }
   ],
   "source": [
    "df.head()"
   ]
  },
  {
   "cell_type": "code",
   "execution_count": 11,
   "metadata": {
    "_uuid": "9338f9639490e9ef06a76ed818db757d83d6c582"
   },
   "outputs": [],
   "source": []
  },
  {
   "cell_type": "markdown",
   "metadata": {
    "_uuid": "ac1c4d306d9c1ea25c1b28250b386a8d8fde4134"
   },
   "source": [
    "We can also see any particular news headline."
   ]
  },
  {
   "cell_type": "code",
   "execution_count": 41,
   "metadata": {
    "_uuid": "219d5fa37fbffff1c1acdeb46722a40cee1842a2",
    "id": "zlVvCr7qWkqA",
    "outputId": "9eb1561b-ef0b-4a00-bea3-5122c407bc9e"
   },
   "outputs": [
    {
     "data": {
      "text/plain": [
       "'Gerak pekerja pada game yang memiliki genre Real-Time Strategy Gerak pekerja memiliki berbagai macam gerak Oleh sebab dibutuhkan sebuah pendekatan konsep untuk mendesain perilaku pekerja tersebut Perilaku karakter tersebut harus ditambahi dengan Artifical intelegent agar perilakunya menjadi lebih hidup realistis._x000D_ Dalam penelitian yang digunakan adalah Finite State Machine Finite State Machine digunakan untuk menentukan gerak pekerja terhadap parameter-parameter yang digunakan sebagai dasar gerak yang akan dilakukan Selanjutnya akan disimulasikan pada game dengan menggunakan game engine._x000D_ Hasil yang peroleh dalam penelitian adalah penerapan metode Finite State machine untuk menentukan gerak pekerja berdasarkan parameter jumlah harta prajurit kondisi bangunan stockpile jumlah resource yang bawa _x000D_ _x000D_ Kata kunci Game Real-Time Strategy Gerak Pekerja Finite State Machine._x000D_'"
      ]
     },
     "execution_count": 41,
     "metadata": {},
     "output_type": "execute_result"
    }
   ],
   "source": [
    "df[1]"
   ]
  },
  {
   "cell_type": "code",
   "execution_count": null,
   "metadata": {
    "_uuid": "feacf23db532c748405fc7b908de218f2511b931"
   },
   "outputs": [],
   "source": []
  },
  {
   "cell_type": "markdown",
   "metadata": {
    "_uuid": "d36edc03b2cc88ef61651cd6c9deb470817e64df",
    "id": "yQZpp5YMXPkb"
   },
   "source": [
    "#### EXTRACTING THE FEATURES AND CREATING THE DOCUMENT-TERM-MATRIX ( DTM )\n",
    "\n",
    "In DTM the values are the TFidf values.\n",
    "\n",
    "Also I have specified some parameters of the Tfidf vectorizer.\n",
    "\n",
    "Some important points:-\n",
    "\n",
    "**1) LSA is generally implemented with Tfidf values everywhere and not with the Count Vectorizer.**\n",
    "\n",
    "**2) max_features depends on your computing power and also on eval. metric (coherence score is a metric for topic model). Try the value that gives best eval. metric and doesn't limits processing power.**\n",
    "\n",
    "**3) Default values for min_df & max_df worked well.**\n",
    "\n",
    "**4) Can try different values for ngram_range.**"
   ]
  },
  {
   "cell_type": "code",
   "execution_count": 42,
   "metadata": {
    "_uuid": "d3998f5b7d7eaed5d18d08830d2ba9ba8dd7fcd6",
    "id": "UUxESGqhXX07"
   },
   "outputs": [],
   "source": [
    "vect =TfidfVectorizer(stop_words=stop_words,max_features=1000) # to play with. min_df,max_df,max_features etc..."
   ]
  },
  {
   "cell_type": "code",
   "execution_count": 44,
   "metadata": {
    "_uuid": "00cdefa5281e43ed4cd28af256490cf3cf4dbaf2",
    "id": "z0CezNO4aUoh"
   },
   "outputs": [],
   "source": [
    "vect_text=vect.fit_transform(df)"
   ]
  },
  {
   "cell_type": "code",
   "execution_count": null,
   "metadata": {
    "_uuid": "1fda68dd69c429fff879d660aa0ec7dccec18a64"
   },
   "outputs": [],
   "source": []
  },
  {
   "cell_type": "markdown",
   "metadata": {
    "_uuid": "bb0975cb5ba0e82f9e14eba53bd466c26b892a7e"
   },
   "source": [
    "#### We can now see the most frequent and rare words in the news headlines based on idf score. The lesser the value; more common is the word in the news headlines."
   ]
  },
  {
   "cell_type": "code",
   "execution_count": 45,
   "metadata": {
    "_uuid": "a75bc1a06e66fa4c8615822f703487424761570b",
    "id": "5G-Zt5lUsUjx",
    "outputId": "c2e32ea6-5c47-4668-df93-c7ff8f54fb31"
   },
   "outputs": [
    {
     "name": "stdout",
     "output_type": "stream",
     "text": [
      "(68, 1000)\n",
      "  (0, 7)\t1.0\n",
      "  (1, 437)\t0.02445195175462847\n",
      "  (1, 371)\t0.02522531307645687\n",
      "  (1, 785)\t0.06694333167746011\n",
      "  (1, 71)\t0.07194835678671463\n",
      "  (1, 420)\t0.06694333167746011\n",
      "  (1, 361)\t0.06875631431991043\n",
      "  (1, 94)\t0.03809386918040931\n",
      "  (1, 582)\t0.02522531307645687\n",
      "  (1, 669)\t0.04934373667890771\n",
      "  (1, 725)\t0.07194835678671463\n",
      "  (1, 321)\t0.024077791848804847\n",
      "  (1, 275)\t0.05720726767360563\n",
      "  (1, 557)\t0.021662347999096585\n",
      "  (1, 823)\t0.0548841198762347\n",
      "  (1, 238)\t0.026883497192772166\n",
      "  (1, 21)\t0.06046067637142278\n",
      "  (1, 182)\t0.0548841198762347\n",
      "  (1, 805)\t0.03131805266810612\n",
      "  (1, 635)\t0.1434897995527914\n",
      "  (1, 917)\t0.04514805587238021\n",
      "  (1, 544)\t0.0815514929845858\n",
      "  (1, 470)\t0.2877934271468585\n",
      "  (1, 871)\t0.2877934271468585\n",
      "  (1, 291)\t0.2877934271468585\n",
      "  :\t:\n",
      "  (67, 958)\t0.03640887628045631\n",
      "  (67, 518)\t0.02964378537444313\n",
      "  (67, 893)\t0.04177863102248697\n",
      "  (67, 218)\t0.0334536869957019\n",
      "  (67, 507)\t0.04021877790171508\n",
      "  (67, 126)\t0.03534883510675244\n",
      "  (67, 388)\t0.03534883510675244\n",
      "  (67, 55)\t0.05445843983433379\n",
      "  (67, 761)\t0.06343028675847359\n",
      "  (67, 506)\t0.05445843983433379\n",
      "  (67, 473)\t0.02383978042672738\n",
      "  (67, 819)\t0.021143428919491197\n",
      "  (67, 86)\t0.038823441737732556\n",
      "  (67, 180)\t0.10880343316082747\n",
      "  (67, 580)\t0.022232544626744014\n",
      "  (67, 275)\t0.04354704663807727\n",
      "  (67, 21)\t0.09204718214258668\n",
      "  (67, 10)\t0.03780855178076365\n",
      "  (67, 175)\t0.014660124063437963\n",
      "  (67, 5)\t0.07331353285838453\n",
      "  (67, 192)\t0.027664278344714504\n",
      "  (67, 927)\t0.03722639890882623\n",
      "  (67, 811)\t0.05558571163540508\n",
      "  (67, 996)\t0.1343678310538366\n",
      "  (67, 627)\t0.016989522380173604\n"
     ]
    }
   ],
   "source": [
    "print(vect_text.shape)\n",
    "print(vect_text)"
   ]
  },
  {
   "cell_type": "code",
   "execution_count": 46,
   "metadata": {
    "_uuid": "fdf6846bf90d386f8361467a420af9b40b689521",
    "id": "zbF-rC1va7tP"
   },
   "outputs": [],
   "source": [
    "idf=vect.idf_"
   ]
  },
  {
   "cell_type": "code",
   "execution_count": 51,
   "metadata": {
    "_uuid": "b5dc9f0d99d949a36cdb00be41b5ba4a424f093c",
    "id": "a0wQG_tZm53A",
    "outputId": "d8b5ee22-9920-45e4-bd3e-548217842e68"
   },
   "outputs": [
    {
     "name": "stdout",
     "output_type": "stream",
     "text": [
      "yang yayasan\n",
      "4.13549421592915\n",
      "3.847812143477369\n"
     ]
    }
   ],
   "source": [
    "dd=dict(zip(vect.get_feature_names(), idf))\n",
    "l=sorted(dd, key=(dd).get)\n",
    "# print(l)\n",
    "print(l[0],l[-1])\n",
    "print(dd['gerak'])\n",
    "print(dd['hidup'])  # police is most common and forecast is least common among the news headlines."
   ]
  },
  {
   "cell_type": "markdown",
   "metadata": {
    "_uuid": "868e6b05bc280289edea4e14b31c98a435d8ebbc"
   },
   "source": [
    "We can therefore see that on the basis of the **idf value** , **'police'** is the **most frequent** word while **'forecast'** is **least frequently** occuring among the news."
   ]
  },
  {
   "cell_type": "code",
   "execution_count": null,
   "metadata": {
    "_uuid": "c2ed01a1ea2413b95aa748487111c0ca6cc4e7ec"
   },
   "outputs": [],
   "source": []
  },
  {
   "cell_type": "markdown",
   "metadata": {
    "_uuid": "3b96bb00ba3313b3fcab6735e73c56e89fc74365"
   },
   "source": [
    "### TOPIC MODELLING"
   ]
  },
  {
   "cell_type": "code",
   "execution_count": null,
   "metadata": {
    "_uuid": "4ce3e769f54ef00290465cd8b1d7bd4089df71ea"
   },
   "outputs": [],
   "source": []
  },
  {
   "cell_type": "markdown",
   "metadata": {
    "_uuid": "0bad03b7f6b2b69cd4554ec9e7681b430dfe4e10"
   },
   "source": [
    "## Latent Semantic Analysis (LSA)"
   ]
  },
  {
   "cell_type": "markdown",
   "metadata": {
    "_uuid": "c0d4b13524635aefa5e44f780efeec9b55ca6e58"
   },
   "source": [
    "The first approach that I have used is the LSA. **LSA is basically singular value decomposition.**\n",
    "\n",
    "**SVD decomposes the original DTM into three matrices S=U.(sigma).(V.T). Here the matrix U denotes the document-topic matrix while (V) is the topic-term matrix.**\n",
    "\n",
    "**Each row of the matrix U(document-term matrix) is the vector representation of the corresponding document. The length of these vectors is the number of desired topics. Vector representation for the terms in our data can be found in the matrix V (term-topic matrix).**\n",
    "\n",
    "So, SVD gives us vectors for every document and term in our data. The length of each vector would be k. **We can then use these vectors to find similar words and similar documents using the cosine similarity method.**\n",
    "\n",
    "We can use the truncatedSVD function to implement LSA. The n_components parameter is the number of topics we wish to extract.\n",
    "The model is then fit and transformed on the result given by vectorizer. \n",
    "\n",
    "**Lastly note that LSA and LSI (I for indexing) are the same and the later is just sometimes used in information retrieval contexts.**"
   ]
  },
  {
   "cell_type": "code",
   "execution_count": 52,
   "metadata": {
    "_uuid": "ac483df5e69eeb2b4b71af956c6987896eda7eb6",
    "id": "9xuGfFdtqTp5"
   },
   "outputs": [],
   "source": [
    "from sklearn.decomposition import TruncatedSVD\n",
    "lsa_model = TruncatedSVD(n_components=10, algorithm='randomized', n_iter=10, random_state=42)\n",
    "\n",
    "lsa_top=lsa_model.fit_transform(vect_text)\n"
   ]
  },
  {
   "cell_type": "code",
   "execution_count": 53,
   "metadata": {
    "_uuid": "0a8f4620d3c71db1275e4b5662bf4ab32c598266",
    "id": "KdaVWPC6xmq-",
    "outputId": "d23a23e6-22bb-41dc-8b6a-508dd20a67c2"
   },
   "outputs": [
    {
     "name": "stdout",
     "output_type": "stream",
     "text": [
      "[[ 5.96853181e-03 -2.03288254e-03 -1.18884872e-02 -3.16844261e-02\n",
      "  -1.67983930e-02  1.62312576e-03 -1.60828850e-02  7.39007409e-03\n",
      "   1.38994953e-02 -1.71868698e-02]\n",
      " [ 2.22387138e-01 -1.08680280e-01 -1.12024930e-01 -2.99595652e-02\n",
      "   2.77697366e-01 -1.74470190e-01  7.59581461e-02  1.77426319e-02\n",
      "   4.04293156e-02  4.41598034e-02]\n",
      " [ 3.93870553e-01  3.86893983e-01  4.49225782e-02  1.37136878e-01\n",
      "  -1.16443271e-02 -6.33824544e-02  1.27732374e-01 -3.33758903e-02\n",
      "   2.40748138e-01 -2.99379397e-02]\n",
      " [ 3.31716936e-01  3.36907607e-01  1.11875888e-02  1.61713953e-03\n",
      "   1.01047715e-02  2.13747639e-02 -3.15219339e-02 -4.48902900e-02\n",
      "  -1.90307743e-01  7.72829357e-02]\n",
      " [ 3.45720347e-01 -1.53832848e-01  2.31648766e-01  6.99375468e-03\n",
      "  -1.31312278e-02  2.27949138e-02  1.36200580e-01  7.66414317e-02\n",
      "  -4.85892218e-02 -4.82837626e-02]\n",
      " [ 2.25019898e-01 -6.89439487e-02 -1.99591795e-01  1.78423846e-02\n",
      "   1.15123442e-01 -1.17883838e-01  3.41842829e-02 -2.36242384e-02\n",
      "  -3.93155257e-02  5.26279642e-02]\n",
      " [ 2.39897030e-01 -1.51341550e-01 -1.89807819e-01  2.57126544e-01\n",
      "  -8.62574409e-02  7.75743739e-02 -5.71841551e-03  7.27871228e-04\n",
      "  -3.82355715e-02 -1.73750124e-01]\n",
      " [ 3.52226605e-01 -1.29879398e-01 -4.05069906e-02  5.64891324e-02\n",
      "   5.29334463e-02  3.03186041e-01 -1.10951339e-01 -8.31613759e-02\n",
      "  -1.77436498e-02 -4.81514811e-02]\n",
      " [ 3.89097078e-01  3.51699519e-01  2.54873741e-02  1.49929156e-01\n",
      "  -7.97055362e-02 -1.00965034e-01  6.86831447e-02 -2.98820469e-02\n",
      "   6.69517105e-03 -5.05228358e-02]\n",
      " [ 2.81789749e-01 -1.01673673e-01  2.40283669e-03 -1.33293815e-01\n",
      "  -8.88584884e-02  1.21183151e-02 -1.44087457e-02  1.69854217e-02\n",
      "   5.50486481e-02 -1.24801547e-02]\n",
      " [ 4.96009716e-01  5.65356927e-01  1.56057933e-02 -2.49933678e-02\n",
      "   1.09183811e-02 -8.36122164e-03 -5.21197342e-02  2.53487903e-02\n",
      "  -3.00672128e-01 -6.24431453e-02]\n",
      " [ 3.02341800e-01 -1.17579863e-01 -3.36662125e-01  6.26527893e-02\n",
      "   4.92951860e-01 -2.43819376e-01  1.04602231e-01 -2.49471978e-02\n",
      "   1.37648221e-03 -1.41331453e-01]\n",
      " [ 4.17075913e-01 -4.06441213e-02 -1.67753180e-01 -3.21706875e-01\n",
      "  -1.74015314e-01  1.24256085e-02 -9.90251917e-02  8.17295550e-02\n",
      "   8.43455441e-02 -1.00792979e-01]\n",
      " [ 2.37610241e-01 -1.33957493e-01 -4.29264804e-02 -8.13688105e-03\n",
      "   3.91539355e-02  2.69199182e-01 -4.58023971e-02  8.17150498e-02\n",
      "  -7.73786207e-02  2.94713476e-01]\n",
      " [ 3.78955199e-01 -1.94714667e-01  3.81975319e-01 -4.17954072e-02\n",
      "   6.21747098e-02 -1.04697129e-01  4.17886052e-02  1.16807378e-02\n",
      "  -2.04788099e-02 -1.06340539e-01]\n",
      " [ 2.64467163e-01 -1.05892309e-01 -3.02288434e-01  1.58066079e-01\n",
      "   1.16995385e-01 -1.57785036e-01  2.69987178e-02 -2.56621397e-02\n",
      "  -6.09475405e-02 -9.45043961e-02]\n",
      " [ 2.61887923e-01 -1.35044475e-01  1.15451487e-01  1.29122075e-01\n",
      "  -1.30691305e-01 -1.89646908e-01 -6.83100491e-02 -5.18914440e-02\n",
      "   1.01769246e-02  7.47536227e-02]\n",
      " [ 2.73174314e-01  3.35401366e-02 -1.95141851e-02  6.73147030e-02\n",
      "  -4.55963042e-05  2.27355414e-02 -4.44144228e-02 -2.63952822e-02\n",
      "   4.18568170e-02  8.96007535e-02]\n",
      " [ 2.57681273e-01 -1.47882442e-01 -2.08051648e-01  4.38783395e-01\n",
      "  -3.98192929e-01 -2.88242889e-01  2.91953106e-02  2.46204274e-02\n",
      "  -2.93122391e-02  6.10475122e-02]\n",
      " [ 2.59673166e-01 -1.34944166e-01 -1.65661629e-01  3.92592250e-01\n",
      "  -3.76338374e-01 -2.27830933e-01  3.18330666e-02 -5.28023449e-03\n",
      "  -4.20154470e-02  3.07200792e-02]\n",
      " [ 3.41089183e-01 -6.80438016e-02 -8.50863795e-02 -5.32798393e-02\n",
      "  -1.20525696e-01  4.59737077e-03  2.51162023e-02 -7.55742972e-03\n",
      "  -4.20655792e-03 -1.58165101e-02]\n",
      " [ 3.20559245e-01 -1.79634513e-01  3.41784440e-01 -2.09649244e-02\n",
      "   8.77982351e-02 -1.06752786e-01 -1.16404145e-01 -9.96300128e-02\n",
      "  -6.70910834e-02 -1.12917512e-02]\n",
      " [ 4.02190199e-01 -1.94822114e-01 -1.06419533e-01  3.51210715e-01\n",
      "  -3.42189596e-01 -2.34057094e-01 -3.23489691e-02  4.74283747e-02\n",
      "  -2.28395325e-02  1.21957943e-01]\n",
      " [ 3.31642980e-01  2.47972611e-01  8.26705442e-02  6.39817504e-02\n",
      "   9.13423621e-02  3.33873753e-02  1.23847315e-01  3.61269167e-02\n",
      "   5.76225395e-01  5.30988990e-02]\n",
      " [ 3.00152966e-01 -8.07846361e-03 -4.74882302e-02 -3.66206976e-02\n",
      "   8.32970188e-03  1.17698954e-01 -2.22149640e-04  6.96233850e-02\n",
      "  -5.26899754e-03 -1.57172564e-02]\n",
      " [ 3.50177610e-01 -1.50376648e-01 -1.63557437e-01  2.60180595e-01\n",
      "   9.81560760e-02  3.49229509e-01 -1.19322620e-01 -1.22336322e-01\n",
      "   6.41836118e-02 -3.32364888e-01]\n",
      " [ 2.62595571e-01 -2.89822543e-02  9.33767027e-02  1.30803791e-02\n",
      "  -1.13029516e-02  2.45113102e-02  6.00044020e-02 -8.20659157e-02\n",
      "  -1.02616740e-02 -2.52543300e-02]\n",
      " [ 3.41900302e-01 -1.49611987e-01 -6.30537310e-02  2.28481196e-01\n",
      "   1.21207069e-01  3.47721853e-01 -1.46973431e-01 -1.14644481e-01\n",
      "  -3.50909686e-03 -1.43317486e-01]\n",
      " [ 3.25594852e-01 -1.72322093e-01  3.21158285e-01  2.91002488e-02\n",
      "   2.00458830e-02 -1.20053232e-01 -7.26973458e-02 -8.18354866e-02\n",
      "  -3.40348954e-03  3.33686791e-02]\n",
      " [ 2.80194180e-01 -8.81563287e-02 -8.08984718e-02 -2.00742604e-01\n",
      "  -9.43512434e-02  1.98207712e-02 -4.79129943e-02  1.50183991e-02\n",
      "   6.62569484e-02 -2.49765876e-02]\n",
      " [ 2.83838246e-01 -9.55146825e-02 -3.85112936e-02 -7.13904744e-02\n",
      "   1.09742181e-02  1.72831865e-01 -3.09708279e-02  7.40744438e-03\n",
      "   5.69151453e-02  5.33864402e-01]\n",
      " [ 2.38410088e-01 -1.12971063e-01 -8.52864010e-02 -2.40491108e-01\n",
      "  -2.28479036e-01  1.20958334e-01  5.91061884e-01 -4.98377840e-01\n",
      "  -9.31254405e-02 -3.42674237e-02]\n",
      " [ 3.37036443e-01 -1.39339395e-01 -7.18782546e-02 -7.20481166e-02\n",
      "  -2.94624343e-02  1.14562407e-01 -7.43755721e-03 -2.46354958e-04\n",
      "   1.83574368e-02  2.46471481e-02]\n",
      " [ 3.66761233e-01 -1.92119501e-01  5.02745272e-01 -2.93321432e-02\n",
      "   8.23308970e-02 -2.16514209e-01 -1.61467627e-01 -2.10642524e-01\n",
      "  -1.17555686e-02 -3.24670010e-02]\n",
      " [ 2.48436670e-01 -1.24059639e-01 -3.88211185e-02  1.05022370e-01\n",
      "   7.56141333e-02  3.16340793e-01 -1.42310969e-01 -1.18462558e-01\n",
      "  -1.95939308e-02 -1.07419449e-01]\n",
      " [ 2.53297559e-01  2.33137676e-01  2.69258706e-02  5.10020298e-02\n",
      "   4.88759923e-02  1.59359007e-02  5.93520743e-02 -3.14647122e-02\n",
      "   2.00491479e-01  8.40892249e-02]\n",
      " [ 3.51462670e-01 -2.21621009e-01  2.74443037e-01  2.63835952e-02\n",
      "   4.16022724e-02  1.42909423e-01  4.30462282e-01  6.16296787e-01\n",
      "  -1.11200314e-01 -1.16642421e-01]\n",
      " [ 4.54823542e-01  5.93748238e-01 -1.81104740e-04 -2.92704162e-02\n",
      "  -1.01929543e-02 -6.60732758e-03 -1.65693305e-02  1.14125198e-02\n",
      "  -3.77145747e-01 -1.20364024e-01]\n",
      " [ 3.85628532e-01  2.90337074e-01  8.28771546e-02  6.20792733e-02\n",
      "   8.37332666e-02  1.27390714e-02  1.15411989e-01  2.47567108e-02\n",
      "   5.69327026e-01  4.71796188e-02]\n",
      " [ 2.43597986e-01 -1.05368127e-01 -9.12990130e-02 -2.58729162e-01\n",
      "  -2.34663229e-01  1.29457583e-01  6.09346540e-01 -4.78434987e-01\n",
      "  -6.63271267e-02 -2.65195688e-02]\n",
      " [ 3.28553702e-01 -8.20505509e-02  8.24882053e-02 -5.51437048e-02\n",
      "  -1.57326252e-02  8.15716078e-03 -2.52424039e-02 -2.01367051e-02\n",
      "   3.52045606e-02  4.60310129e-02]\n",
      " [ 2.78726318e-01 -1.11099710e-01 -1.45658193e-02  3.05184878e-02\n",
      "   6.50944709e-02  2.41787684e-01 -1.05149287e-01  3.37955846e-02\n",
      "  -9.18310583e-02  3.79054361e-01]\n",
      " [ 1.74492254e-01 -8.37545079e-02 -2.53446563e-01 -6.95051777e-02\n",
      "   3.95023347e-01 -2.68877740e-01  1.01188170e-01 -1.05670364e-02\n",
      "  -1.15485741e-02 -1.37868525e-02]\n",
      " [ 4.77611943e-01  5.73416679e-01  2.86792361e-02  1.25932935e-02\n",
      "  -5.37144026e-03 -2.96503965e-03  4.81823202e-03  1.29107294e-02\n",
      "  -3.37839331e-01 -1.11978152e-01]\n",
      " [ 3.05588545e-01 -1.25593521e-01 -8.84929573e-02  2.65956054e-01\n",
      "  -2.99054491e-01 -2.01634087e-01 -1.61675232e-02  9.71987945e-02\n",
      "  -2.38763654e-02  9.77743957e-02]\n",
      " [ 4.24153548e-01  2.68890416e-01  1.45695808e-02  2.61594522e-02\n",
      "   5.29472837e-03  4.26676272e-03 -6.93040849e-02 -3.11240025e-02\n",
      "  -8.45039573e-02  1.16482476e-01]\n",
      " [ 3.00827722e-01 -1.07214292e-01 -2.02482041e-01 -7.63505944e-02\n",
      "   1.22780770e-01 -1.29727209e-01  4.57717385e-03  2.33143513e-02\n",
      "  -6.45065201e-02  7.48641623e-02]\n",
      " [ 3.27824803e-01 -1.84774902e-01  2.43460847e-01  5.22145928e-02\n",
      "   5.36560112e-02  1.53751383e-01  4.21954304e-01  6.28564778e-01\n",
      "  -1.10042068e-01 -1.08376329e-01]\n",
      " [ 2.39843131e-01 -7.95137574e-02  2.52786229e-03  3.83960020e-02\n",
      "   1.17872639e-01  2.04805523e-01 -9.20028759e-02  2.75443500e-03\n",
      "  -1.01166431e-01  2.11250481e-01]\n",
      " [ 2.58756255e-01 -8.31235799e-02 -1.97109185e-01 -1.90507657e-01\n",
      "   9.70711508e-02 -1.41994585e-01 -4.09691985e-02  3.71732740e-02\n",
      "  -9.41202686e-02  9.57057897e-02]\n",
      " [ 3.25307120e-01 -1.24307606e-01  2.89022478e-03  7.97500680e-02\n",
      "   5.84453134e-02  2.80616973e-01 -1.41450509e-01 -1.52258102e-01\n",
      "   2.31537487e-02 -1.18251441e-01]\n",
      " [ 3.10295618e-01 -2.13016699e-02 -1.00232632e-01 -3.75638285e-01\n",
      "  -2.36952411e-01 -7.63645708e-02 -2.67220812e-01  1.55326447e-01\n",
      "   1.41188857e-01 -2.11293485e-01]\n",
      " [ 3.34879024e-01 -1.78043868e-01 -1.81807902e-01  2.73167127e-01\n",
      "   1.38578154e-01  3.00915814e-01 -7.63143231e-02 -5.53844133e-02\n",
      "   5.79757092e-02 -2.62542398e-01]\n",
      " [ 2.46850813e-01 -9.38426763e-02 -7.15690135e-02 -1.01117316e-01\n",
      "  -3.27571585e-02  1.32475934e-01  6.20095017e-03  3.81898641e-02\n",
      "   6.13882852e-02  5.38427242e-01]\n",
      " [ 3.26526336e-01  2.49738496e-01  5.18664549e-02  1.45349419e-01\n",
      "   2.77123984e-02 -5.25373028e-02  9.54225521e-02 -5.65827886e-02\n",
      "   3.57082321e-01  4.31995780e-02]\n",
      " [ 3.49511932e-01  2.74962396e-01  2.82225951e-02 -4.81062228e-03\n",
      "   3.03899936e-02  3.44220206e-02  2.23449165e-02  4.98327282e-02\n",
      "   2.41236588e-01  6.19493081e-03]\n",
      " [ 2.79267937e-01 -1.36619473e-01 -3.03414961e-01 -6.01975338e-02\n",
      "   4.81947596e-01 -3.25677771e-01  1.17655670e-01 -1.58597641e-02\n",
      "   2.81192906e-03  2.52845467e-03]\n",
      " [ 3.61815762e-01 -1.99196861e-01  4.81532036e-01 -6.38635258e-02\n",
      "   7.41333988e-02 -1.97352891e-01 -8.00484583e-02 -2.49006565e-01\n",
      "  -1.31717559e-02 -6.80133221e-02]\n",
      " [ 3.00136867e-01 -9.33214808e-02 -2.02798811e-01 -1.38938681e-01\n",
      "   1.34384137e-01 -1.49689729e-01 -9.95812626e-03  4.84125735e-02\n",
      "  -1.05159893e-01  1.24100905e-01]\n",
      " [ 3.82748822e-01 -9.45446149e-02 -1.49765756e-01 -1.61371309e-01\n",
      "  -1.25021001e-02 -2.47160296e-02 -2.84912477e-02  6.32976231e-02\n",
      "   6.62244508e-03  6.75740501e-02]\n",
      " [ 3.85695934e-01 -1.75102139e-02 -1.48528926e-01 -3.67095013e-01\n",
      "  -2.05693910e-01 -4.76509714e-02 -2.45217662e-01  1.27958740e-01\n",
      "   9.08654012e-02 -1.87765400e-01]\n",
      " [ 3.02059598e-01  2.06054872e-01  3.16571629e-02 -3.79612279e-03\n",
      "   2.21579789e-02  3.55341026e-02 -3.79534585e-02 -5.61418996e-04\n",
      "  -1.11186434e-01  1.17710526e-01]\n",
      " [ 4.22003663e-01 -2.14909962e-01  4.61727607e-01 -1.60896621e-03\n",
      "   1.02859072e-01 -1.79781183e-01 -1.47892561e-01 -1.54357770e-01\n",
      "  -5.22106845e-02  6.58878344e-03]\n",
      " [ 3.56553293e-01 -1.01396438e-01 -9.76223251e-02 -2.57686441e-01\n",
      "  -1.63027741e-01  2.39615275e-02 -3.56036308e-03  4.75286159e-02\n",
      "   7.92580286e-02 -3.40539658e-02]\n",
      " [ 3.39562776e-01  1.41361193e-01 -7.86012263e-03  7.22849458e-03\n",
      "   8.57023456e-02  8.85199661e-02 -1.03742120e-01 -1.59462908e-02\n",
      "  -1.65030917e-01  2.06100013e-01]\n",
      " [ 3.17960879e-01 -6.76577626e-02 -7.59556459e-02 -1.23246660e-01\n",
      "  -1.24298025e-01  5.01547387e-02 -1.26352947e-02  6.89433938e-03\n",
      "   2.00088551e-02 -3.98836618e-02]\n",
      " [ 1.88088363e-01 -7.76791913e-02  2.15954610e-02 -8.30444570e-02\n",
      "  -4.12567417e-02 -3.17720095e-02  2.32373431e-02  8.15782760e-02\n",
      "  -1.49756538e-02 -2.05665058e-02]\n",
      " [ 2.31420509e-01 -5.83924385e-02 -1.34042590e-01 -3.33532348e-01\n",
      "  -2.07984367e-01 -6.15190238e-02 -2.38066026e-01  1.33548358e-01\n",
      "   1.29767907e-01 -1.68691851e-01]]\n",
      "(68, 10)\n"
     ]
    }
   ],
   "source": [
    "print(lsa_top)\n",
    "print(lsa_top.shape)  # (no_of_doc*no_of_topics)"
   ]
  },
  {
   "cell_type": "code",
   "execution_count": 54,
   "metadata": {
    "_uuid": "2a259e5f3b8c11118368439eea8de0faa8b7a1c2",
    "id": "d4dvIGIGxtAI",
    "outputId": "58590025-b601-4160-956f-49247c3e064e"
   },
   "outputs": [
    {
     "name": "stdout",
     "output_type": "stream",
     "text": [
      "Document 0 :\n",
      "Topic  0  :  0.5968531810806008\n",
      "Topic  1  :  -0.20328825417388627\n",
      "Topic  2  :  -1.188848715018798\n",
      "Topic  3  :  -3.1684426091027436\n",
      "Topic  4  :  -1.6798392988792148\n",
      "Topic  5  :  0.16231257633241575\n",
      "Topic  6  :  -1.6082884970859106\n",
      "Topic  7  :  0.7390074089113957\n",
      "Topic  8  :  1.3899495316420976\n",
      "Topic  9  :  -1.7186869811762338\n"
     ]
    }
   ],
   "source": [
    "l=lsa_top[0]\n",
    "print(\"Document 0 :\")\n",
    "for i,topic in enumerate(l):\n",
    "  print(\"Topic \",i,\" : \",topic*100)\n",
    "  \n"
   ]
  },
  {
   "cell_type": "markdown",
   "metadata": {
    "_uuid": "2153bcbf45e7623efc213bb94f0dbba377ff34c3"
   },
   "source": [
    "Similalry for other documents we can do this. However note that values dont add to 1 as in LSA it is not probabiltiy of a topic in a document."
   ]
  },
  {
   "cell_type": "code",
   "execution_count": 55,
   "metadata": {
    "_uuid": "61bb8ff8b4b6cf0cd2fcde7890f3a3ebb8980452",
    "id": "AI2kOuwitOGp",
    "outputId": "093e45e0-2141-4504-b0fe-93e7656731a5"
   },
   "outputs": [
    {
     "name": "stdout",
     "output_type": "stream",
     "text": [
      "(10, 1000)\n",
      "[[ 0.0175422   0.02192208  0.00939554 ...  0.00641999  0.00729649\n",
      "   0.00975339]\n",
      " [-0.00931364 -0.02045699  0.0144047  ... -0.00526193 -0.00827286\n",
      "   0.03168603]\n",
      " [ 0.0512903   0.03494029 -0.00473657 ... -0.00716125 -0.00430859\n",
      "   0.00091689]\n",
      " ...\n",
      " [-0.03412609 -0.01014521  0.00718261 ...  0.01063555 -0.01057\n",
      "   0.00111065]\n",
      " [-0.00786307 -0.01171223 -0.01041132 ...  0.00496905 -0.00038551\n",
      "  -0.0336746 ]\n",
      " [-0.00131159 -0.01307418 -0.01549832 ...  0.00535893 -0.01400916\n",
      "  -0.01123597]]\n"
     ]
    }
   ],
   "source": [
    "print(lsa_model.components_.shape) # (no_of_topics*no_of_words)\n",
    "print(lsa_model.components_)"
   ]
  },
  {
   "cell_type": "code",
   "execution_count": null,
   "metadata": {
    "_uuid": "6f834000fa7b2f294694572fda0bcf56d25badd6"
   },
   "outputs": [],
   "source": []
  },
  {
   "cell_type": "markdown",
   "metadata": {
    "_uuid": "a289f6e017d0c573d20ed386582df71437fab5cc"
   },
   "source": [
    "#### Now e can get a list of the important words for each of the 10 topics as shown. For simplicity here I have shown 10 words for each topic."
   ]
  },
  {
   "cell_type": "code",
   "execution_count": 56,
   "metadata": {
    "_uuid": "c9860197f6d11e5583629cca322e19a93d4c0350",
    "id": "GMMmSTbQqfdz",
    "outputId": "4a5765e5-ffc9-410f-ce48-1b422d348ee3"
   },
   "outputs": [
    {
     "name": "stdout",
     "output_type": "stream",
     "text": [
      "Topic 0: \n",
      "yang dengan citra _x000d_ pada untuk dari menggunakan dalam metode \n",
      "\n",
      "Topic 1: \n",
      "citra batik fitur kemiripan pengenalan tekstur ekstraksi distance senyum tulisan \n",
      "\n",
      "Topic 2: \n",
      "peramalan penjualan produk obat exponential jumlah perusahaan smoothing single error \n",
      "\n",
      "Topic 3: \n",
      "penjadwalan jadwal siswa mata pelajaran kurikulum sekolah kuliah nilai baru \n",
      "\n",
      "Topic 4: \n",
      "game pembelajaran siswa sapi edukasi metode medium matematika gerak finite \n",
      "\n",
      "Topic 5: \n",
      "kriteria keputusan beasiswa pendukung siswa baru pasien sistem penerimaan obat \n",
      "\n",
      "Topic 6: \n",
      "arsitektur obat enterprise togaf bangkalan kebutuhan game dinas backpropagation instansi \n",
      "\n",
      "Topic 7: \n",
      "obat dokumen kebutuhan backpropagation epoch rangka jaringan layer learning sakit \n",
      "\n",
      "Topic 8: \n",
      "tulisan pengenalan tangan senyum dokumen carakan wajah karakter pada huruf \n",
      "\n",
      "Topic 9: \n",
      "penyakit jantung pasien gagal gizi bayes naïve gejala makanan pakar \n",
      "\n"
     ]
    }
   ],
   "source": [
    "# most important words for each topic\n",
    "vocab = vect.get_feature_names()\n",
    "\n",
    "for i, comp in enumerate(lsa_model.components_):\n",
    "    vocab_comp = zip(vocab, comp)\n",
    "    sorted_words = sorted(vocab_comp, key= lambda x:x[1], reverse=True)[:10]\n",
    "    print(\"Topic \"+str(i)+\": \")\n",
    "    for t in sorted_words:\n",
    "        print(t[0],end=\" \")\n",
    "    print(\"\\n\")\n",
    "         "
   ]
  },
  {
   "cell_type": "code",
   "execution_count": 22,
   "metadata": {
    "_uuid": "15fc699124fc73b2974081fd6e85752cbd9cd440"
   },
   "outputs": [],
   "source": []
  },
  {
   "cell_type": "markdown",
   "metadata": {},
   "source": [
    "## THE END !!!"
   ]
  },
  {
   "cell_type": "markdown",
   "metadata": {},
   "source": [
    "## [Please star/upvote in case u liked it. ]"
   ]
  },
  {
   "cell_type": "code",
   "execution_count": 32,
   "metadata": {
    "_uuid": "220f0c0b4fc78848f66ee48aa11b91c3f3f7838a"
   },
   "outputs": [],
   "source": []
  }
 ],
 "metadata": {
  "kernelspec": {
   "display_name": "Python 3 (ipykernel)",
   "language": "python",
   "name": "python3"
  },
  "language_info": {
   "codemirror_mode": {
    "name": "ipython",
    "version": 3
   },
   "file_extension": ".py",
   "mimetype": "text/x-python",
   "name": "python",
   "nbconvert_exporter": "python",
   "pygments_lexer": "ipython3",
   "version": "3.9.5"
  }
 },
 "nbformat": 4,
 "nbformat_minor": 4
}
