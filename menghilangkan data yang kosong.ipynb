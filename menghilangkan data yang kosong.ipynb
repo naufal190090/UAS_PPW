{
 "cells": [
  {
   "cell_type": "code",
   "execution_count": 1,
   "id": "77f91b72-b84c-4085-a69d-fe842e4c6081",
   "metadata": {},
   "outputs": [],
   "source": [
    "import pandas as pd\n",
    "data = pd.read_csv('data_awal_crawling.csv')"
   ]
  },
  {
   "cell_type": "code",
   "execution_count": 2,
   "id": "7c2ce51c-4e0d-4f58-b52f-c837394bd39f",
   "metadata": {},
   "outputs": [
    {
     "data": {
      "text/plain": [
       "judul           0\n",
       "Penulis         0\n",
       "Pembimbing 1    0\n",
       "Pembimbing 2    0\n",
       "Abstrak         0\n",
       "Abstract        0\n",
       "dtype: int64"
      ]
     },
     "execution_count": 2,
     "metadata": {},
     "output_type": "execute_result"
    }
   ],
   "source": [
    "data.dropna(inplace=True)\n",
    "data.isnull().sum()"
   ]
  },
  {
   "cell_type": "code",
   "execution_count": 3,
   "id": "af50ea86-afac-41b0-9d75-bc059c02e983",
   "metadata": {},
   "outputs": [],
   "source": [
    "data.to_excel(\"hasil_crawling.xlsx\")"
   ]
  },
  {
   "cell_type": "code",
   "execution_count": null,
   "id": "fe9ce834-c45d-452b-9444-a95aa35ed8b5",
   "metadata": {},
   "outputs": [],
   "source": []
  }
 ],
 "metadata": {
  "kernelspec": {
   "display_name": "Python 3 (ipykernel)",
   "language": "python",
   "name": "python3"
  },
  "language_info": {
   "codemirror_mode": {
    "name": "ipython",
    "version": 3
   },
   "file_extension": ".py",
   "mimetype": "text/x-python",
   "name": "python",
   "nbconvert_exporter": "python",
   "pygments_lexer": "ipython3",
   "version": "3.9.5"
  }
 },
 "nbformat": 4,
 "nbformat_minor": 5
}
